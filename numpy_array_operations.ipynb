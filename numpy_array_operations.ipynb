{
  "nbformat": 4,
  "nbformat_minor": 0,
  "metadata": {
    "kernelspec": {
      "display_name": "Python 3",
      "language": "python",
      "name": "python3"
    },
    "language_info": {
      "codemirror_mode": {
        "name": "ipython",
        "version": 3
      },
      "file_extension": ".py",
      "mimetype": "text/x-python",
      "name": "python",
      "nbconvert_exporter": "python",
      "pygments_lexer": "ipython3",
      "version": "3.8.5"
    },
    "colab": {
      "name": "numpy-array-operations.ipynb",
      "provenance": [],
      "collapsed_sections": [
        "HtnL7xK70axA",
        "XJYRokab0axS"
      ],
      "include_colab_link": true
    }
  },
  "cells": [
    {
      "cell_type": "markdown",
      "metadata": {
        "id": "view-in-github",
        "colab_type": "text"
      },
      "source": [
        "<a href=\"https://colab.research.google.com/github/Madhan-analyst/Madhan-analyst/blob/main/numpy_array_operations.ipynb\" target=\"_parent\"><img src=\"https://colab.research.google.com/assets/colab-badge.svg\" alt=\"Open In Colab\"/></a>"
      ]
    },
    {
      "cell_type": "code",
      "metadata": {
        "id": "Rwyvqq2D0aw2",
        "colab": {
          "base_uri": "https://localhost:8080/"
        },
        "outputId": "292d4b46-194d-4a0b-ac59-c08474b1c738"
      },
      "source": [
        "# Jovian Commit Essentials\n",
        "# Please retain and execute this cell without modifying the contents for `jovian.commit` to work\n",
        "!pip install jovian --upgrade -q\n",
        "import jovian\n",
        "jovian.set_project('numpy-array-operations')\n",
        "jovian.set_colab_id('1VEmfvBjfofaGk_mGDxVhS99a0T5VqQLg')"
      ],
      "execution_count": null,
      "outputs": [
        {
          "output_type": "stream",
          "text": [
            "\u001b[?25l\r\u001b[K     |████▊                           | 10 kB 23.1 MB/s eta 0:00:01\r\u001b[K     |█████████▌                      | 20 kB 27.6 MB/s eta 0:00:01\r\u001b[K     |██████████████▎                 | 30 kB 13.6 MB/s eta 0:00:01\r\u001b[K     |███████████████████             | 40 kB 10.1 MB/s eta 0:00:01\r\u001b[K     |███████████████████████▉        | 51 kB 5.6 MB/s eta 0:00:01\r\u001b[K     |████████████████████████████▋   | 61 kB 6.2 MB/s eta 0:00:01\r\u001b[K     |████████████████████████████████| 68 kB 2.9 MB/s \n",
            "\u001b[?25h  Building wheel for uuid (setup.py) ... \u001b[?25l\u001b[?25hdone\n"
          ],
          "name": "stdout"
        }
      ]
    },
    {
      "cell_type": "markdown",
      "metadata": {
        "id": "7ay_j9fq0aw6"
      },
      "source": [
        "> ### **Assignment 2 - Numpy Array Operations** \n",
        ">\n",
        "> This assignment is part of the course [\"Data Analysis with Python: Zero to Pandas\"](http://zerotopandas.com). The objective of this assignment is to develop a solid understanding of Numpy array operations. In this assignment you will:\n",
        "> \n",
        "> 1. Pick 5 interesting Numpy array functions by going through the documentation: https://numpy.org/doc/stable/reference/routines.html \n",
        "> 2. Run and modify this Jupyter notebook to illustrate their usage (some explanation and 3 examples for each function). Use your imagination to come up with interesting and unique examples.\n",
        "> 3. Upload this notebook to your Jovian profile using `jovian.commit` and make a submission here: https://jovian.ml/learn/data-analysis-with-python-zero-to-pandas/assignment/assignment-2-numpy-array-operations\n",
        "> 4. (Optional) Share your notebook online (on Twitter, LinkedIn, Facebook) and on the community forum thread: https://jovian.ml/forum/t/assignment-2-numpy-array-operations-share-your-work/10575 . \n",
        "> 5. (Optional) Check out the notebooks [shared by other participants](https://jovian.ml/forum/t/assignment-2-numpy-array-operations-share-your-work/10575) and give feedback & appreciation.\n",
        ">\n",
        "> The recommended way to run this notebook is to click the \"Run\" button at the top of this page, and select \"Run on Binder\". This will run the notebook on mybinder.org, a free online service for running Jupyter notebooks.\n",
        ">\n",
        "> Try to give your notebook a catchy title & subtitle e.g. \"All about Numpy array operations\", \"5 Numpy functions you didn't know you needed\", \"A beginner's guide to broadcasting in Numpy\", \"Interesting ways to create Numpy arrays\", \"Trigonometic functions in Numpy\", \"How to use Python for Linear Algebra\" etc.\n",
        ">\n",
        "> **NOTE**: Remove this block of explanation text before submitting or sharing your notebook online - to make it more presentable.\n",
        "\n",
        "\n",
        "# 5 Simple Yet interesting Numpy Functions that a Datascience Beginner should know! :)\n",
        "\n",
        "\n",
        "So, in this assignment, I am going to discuss about the 5 statistical numpy functions in Python.\n",
        "\n",
        "- np.char.find\n",
        "- np.nanmean\n",
        "- np.extract\n",
        "- np.trim_zeros\n",
        "- np.unique\n"
      ]
    },
    {
      "cell_type": "code",
      "metadata": {
        "id": "8_NrrG180aw8"
      },
      "source": [
        "!pip install jovian --upgrade -q"
      ],
      "execution_count": null,
      "outputs": []
    },
    {
      "cell_type": "code",
      "metadata": {
        "id": "nE9yp2am0aw9"
      },
      "source": [
        "import jovian"
      ],
      "execution_count": null,
      "outputs": []
    },
    {
      "cell_type": "code",
      "metadata": {
        "id": "qM3bNRrX0aw9",
        "colab": {
          "base_uri": "https://localhost:8080/",
          "height": 120
        },
        "outputId": "56797b8d-311d-4cd9-abc2-254b299f3922"
      },
      "source": [
        "jovian.commit(project='numpy-array-operations')"
      ],
      "execution_count": null,
      "outputs": [
        {
          "output_type": "stream",
          "text": [
            "[jovian] Detected Colab notebook...\u001b[0m\n",
            "[jovian] Please enter your API key ( from https://jovian.ai/ ):\u001b[0m\n",
            "API KEY: ··········\n",
            "[jovian] Uploading colab notebook to Jovian...\u001b[0m\n",
            "Committed successfully! https://jovian.ai/madhanmanoj1999/numpy-array-operations\n"
          ],
          "name": "stdout"
        },
        {
          "output_type": "execute_result",
          "data": {
            "application/vnd.google.colaboratory.intrinsic+json": {
              "type": "string"
            },
            "text/plain": [
              "'https://jovian.ai/madhanmanoj1999/numpy-array-operations'"
            ]
          },
          "metadata": {
            "tags": []
          },
          "execution_count": 4
        }
      ]
    },
    {
      "cell_type": "markdown",
      "metadata": {
        "id": "jJoGiXWF0aw_"
      },
      "source": [
        "Let's begin by importing Numpy and listing out the functions covered in this notebook."
      ]
    },
    {
      "cell_type": "code",
      "metadata": {
        "id": "0oYAD0fo0aw_"
      },
      "source": [
        "import numpy as np"
      ],
      "execution_count": null,
      "outputs": []
    },
    {
      "cell_type": "markdown",
      "metadata": {
        "id": "HtnL7xK70axA"
      },
      "source": [
        "## List of functions explained \n",
        "- function1 = np.char.find()\n",
        "- function2 = np.nanmean()\n",
        "- function3 = np.extract()\n",
        "- function4 = np.trim_zeros()\n",
        "- function5 = np.unique()"
      ]
    },
    {
      "cell_type": "markdown",
      "metadata": {
        "id": "KyT5XtGO0axA"
      },
      "source": [
        "## **1. np.char.find**\n",
        "\n",
        "This function helps us to find a ***sub string*** in an **array of strings**. It returns the lowest index of that sub string in the string array. If the sub string is **not present**, then it returns the last index of the string i.e., **-1**."
      ]
    },
    {
      "cell_type": "code",
      "metadata": {
        "id": "flgYuz5u0axB",
        "colab": {
          "base_uri": "https://localhost:8080/"
        },
        "outputId": "fa0fa5bd-a08a-44da-83e1-8b0c7fb76694"
      },
      "source": [
        "# Example 1 - working (change this)\n",
        "arr1 = np.array([\"madhan\",\"jotha dhapan\",\"geetha\"])\n",
        "\n",
        "np.char.find(arr1,\"mad\")"
      ],
      "execution_count": null,
      "outputs": [
        {
          "output_type": "execute_result",
          "data": {
            "text/plain": [
              "array([ 0, -1, -1])"
            ]
          },
          "metadata": {
            "tags": []
          },
          "execution_count": 15
        }
      ]
    },
    {
      "cell_type": "markdown",
      "metadata": {
        "id": "2zjI6kXq0axC"
      },
      "source": [
        "The sub string \"mad\" is present only in the first element of the array. So,the function returns that it presents in ***0th index of the  first string*** and returns -1 implying that doesn't present in those strings. "
      ]
    },
    {
      "cell_type": "code",
      "metadata": {
        "id": "JckB9T2q0axC",
        "colab": {
          "base_uri": "https://localhost:8080/"
        },
        "outputId": "a5d66e8e-fd6b-47e8-930b-d980a8eea464"
      },
      "source": [
        "# Example 2 - working\n",
        "np.char.find(arr1,\"dha\",start=4)"
      ],
      "execution_count": null,
      "outputs": [
        {
          "output_type": "execute_result",
          "data": {
            "text/plain": [
              "array([-1,  6, -1])"
            ]
          },
          "metadata": {
            "tags": []
          },
          "execution_count": 16
        }
      ]
    },
    {
      "cell_type": "markdown",
      "metadata": {
        "id": "YB6ox1vd0axC"
      },
      "source": [
        "Here, The sub string \"dha\" is present in both first and second elements of the array. But,the function returns that it presents only in the **6th index of second string**  since the start index we gave is 6. That's why it showing that the first string is not having \"mad\"."
      ]
    },
    {
      "cell_type": "code",
      "metadata": {
        "id": "q_Kk8MYf0axD",
        "colab": {
          "base_uri": "https://localhost:8080/",
          "height": 350
        },
        "outputId": "8d567fc6-acef-4c37-eb85-d41b752c30d4"
      },
      "source": [
        "# Example 3 - breaking (to illustrate when it breaks)\n",
        "arr2 = np.array([1, 2 ,3, 4])\n",
        "\n",
        "np.char.find( arr2, 2)"
      ],
      "execution_count": null,
      "outputs": [
        {
          "output_type": "error",
          "ename": "TypeError",
          "evalue": "ignored",
          "traceback": [
            "\u001b[0;31m---------------------------------------------------------------------------\u001b[0m",
            "\u001b[0;31mTypeError\u001b[0m                                 Traceback (most recent call last)",
            "\u001b[0;32m<ipython-input-17-5923f0360d2f>\u001b[0m in \u001b[0;36m<module>\u001b[0;34m()\u001b[0m\n\u001b[1;32m      2\u001b[0m \u001b[0marr2\u001b[0m \u001b[0;34m=\u001b[0m \u001b[0mnp\u001b[0m\u001b[0;34m.\u001b[0m\u001b[0marray\u001b[0m\u001b[0;34m(\u001b[0m\u001b[0;34m[\u001b[0m\u001b[0;36m1\u001b[0m\u001b[0;34m,\u001b[0m \u001b[0;36m2\u001b[0m \u001b[0;34m,\u001b[0m\u001b[0;36m3\u001b[0m\u001b[0;34m,\u001b[0m \u001b[0;36m4\u001b[0m\u001b[0;34m]\u001b[0m\u001b[0;34m)\u001b[0m\u001b[0;34m\u001b[0m\u001b[0;34m\u001b[0m\u001b[0m\n\u001b[1;32m      3\u001b[0m \u001b[0;34m\u001b[0m\u001b[0m\n\u001b[0;32m----> 4\u001b[0;31m \u001b[0mnp\u001b[0m\u001b[0;34m.\u001b[0m\u001b[0mchar\u001b[0m\u001b[0;34m.\u001b[0m\u001b[0mfind\u001b[0m\u001b[0;34m(\u001b[0m \u001b[0marr2\u001b[0m\u001b[0;34m,\u001b[0m \u001b[0;36m2\u001b[0m\u001b[0;34m)\u001b[0m\u001b[0;34m\u001b[0m\u001b[0;34m\u001b[0m\u001b[0m\n\u001b[0m",
            "\u001b[0;32m<__array_function__ internals>\u001b[0m in \u001b[0;36mfind\u001b[0;34m(*args, **kwargs)\u001b[0m\n",
            "\u001b[0;32m/usr/local/lib/python3.7/dist-packages/numpy/core/defchararray.py\u001b[0m in \u001b[0;36mfind\u001b[0;34m(a, sub, start, end)\u001b[0m\n\u001b[1;32m    715\u001b[0m     \"\"\"\n\u001b[1;32m    716\u001b[0m     return _vec_string(\n\u001b[0;32m--> 717\u001b[0;31m         a, int_, 'find', [sub, start] + _clean_args(end))\n\u001b[0m\u001b[1;32m    718\u001b[0m \u001b[0;34m\u001b[0m\u001b[0m\n\u001b[1;32m    719\u001b[0m \u001b[0;34m\u001b[0m\u001b[0m\n",
            "\u001b[0;31mTypeError\u001b[0m: string operation on non-string array"
          ]
        }
      ]
    },
    {
      "cell_type": "markdown",
      "metadata": {
        "id": "3CQ5VZrf0axD"
      },
      "source": [
        "Here, it's showing an error because we passed the numerical array as an argument instead of a string array. It can be solved by converting the numerical values as a string in the array. i.e.,"
      ]
    },
    {
      "cell_type": "code",
      "metadata": {
        "colab": {
          "base_uri": "https://localhost:8080/"
        },
        "id": "X7mMcRhFIGOz",
        "outputId": "79c4eade-8b35-4072-b35e-9ccaf4b55b26"
      },
      "source": [
        "arr2 = np.array([\"1\", \"2\" , \"3\", \"4\"])\n",
        "\n",
        "np.char.find( arr2, \"2\")"
      ],
      "execution_count": null,
      "outputs": [
        {
          "output_type": "execute_result",
          "data": {
            "text/plain": [
              "array([-1,  0, -1, -1])"
            ]
          },
          "metadata": {
            "tags": []
          },
          "execution_count": 19
        }
      ]
    },
    {
      "cell_type": "markdown",
      "metadata": {
        "id": "X_BHviwv0axE"
      },
      "source": [
        "This function helps us to find a particular string in the String array of large datasets."
      ]
    },
    {
      "cell_type": "code",
      "metadata": {
        "id": "AW6Tu3Jb0axE",
        "colab": {
          "base_uri": "https://localhost:8080/",
          "height": 86
        },
        "outputId": "698c0c28-8057-4b92-ac98-3e0484276cef"
      },
      "source": [
        "jovian.commit()"
      ],
      "execution_count": null,
      "outputs": [
        {
          "output_type": "stream",
          "text": [
            "[jovian] Detected Colab notebook...\u001b[0m\n",
            "[jovian] Uploading colab notebook to Jovian...\u001b[0m\n",
            "Committed successfully! https://jovian.ai/madhanmanoj1999/numpy-array-operations\n"
          ],
          "name": "stdout"
        },
        {
          "output_type": "execute_result",
          "data": {
            "application/vnd.google.colaboratory.intrinsic+json": {
              "type": "string"
            },
            "text/plain": [
              "'https://jovian.ai/madhanmanoj1999/numpy-array-operations'"
            ]
          },
          "metadata": {
            "tags": []
          },
          "execution_count": 20
        }
      ]
    },
    {
      "cell_type": "markdown",
      "metadata": {
        "id": "6MQcymst0axE"
      },
      "source": [
        "## **2. np.nanmean**\n",
        "\n",
        "This function can be used to calculate the ***mean of array ignoring the NaN*** value. It's very much useful if our array contains Nan values and we can easily find out the mean without the effect of Nan values. "
      ]
    },
    {
      "cell_type": "code",
      "metadata": {
        "id": "32B3pedS0axF",
        "colab": {
          "base_uri": "https://localhost:8080/"
        },
        "outputId": "b0dab3c0-d3d6-4b3b-d6ca-6bdffffe7951"
      },
      "source": [
        "# Example 1 - working\n",
        "arr3 = [11,2,np.nan,5,8,10,np.nan] \n",
        "\n",
        "np.nanmean(arr3)"
      ],
      "execution_count": null,
      "outputs": [
        {
          "output_type": "execute_result",
          "data": {
            "text/plain": [
              "7.2"
            ]
          },
          "metadata": {
            "tags": []
          },
          "execution_count": 71
        }
      ]
    },
    {
      "cell_type": "markdown",
      "metadata": {
        "id": "ZqXuuP550axF"
      },
      "source": [
        "It calculates the mean value of 11,2,5,8 and 10 as 7.2 by ignoring the Nan values."
      ]
    },
    {
      "cell_type": "code",
      "metadata": {
        "id": "PiicBruL0axF",
        "colab": {
          "base_uri": "https://localhost:8080/"
        },
        "outputId": "02208272-d01a-4b5a-f5f8-ee4026623f93"
      },
      "source": [
        "# Example 2 - working\n",
        "arr4 = np.array([[2,np.nan,4,6,np.nan],\n",
        "        [3,np.nan,5,7,9]])\n",
        "\n",
        "np.nanmean(arr4,axis=1)"
      ],
      "execution_count": null,
      "outputs": [
        {
          "output_type": "execute_result",
          "data": {
            "text/plain": [
              "array([4., 6.])"
            ]
          },
          "metadata": {
            "tags": []
          },
          "execution_count": 70
        }
      ]
    },
    {
      "cell_type": "markdown",
      "metadata": {
        "id": "jyFPsQLg0axG"
      },
      "source": [
        "Here, we have added an argument axis = 1, so it calculates the mean values of the second dimension values."
      ]
    },
    {
      "cell_type": "code",
      "metadata": {
        "id": "ICOttwBL0axG",
        "colab": {
          "base_uri": "https://localhost:8080/",
          "height": 214
        },
        "outputId": "e984a983-4808-4f93-d4a0-6aa7836214d8"
      },
      "source": [
        "# Example 3 - breaking (to illustrate when it breaks)\n",
        "arr5 = [12, 15, 18, nan, 21, 17]\n",
        "\n",
        "np.nanmean(arr5)"
      ],
      "execution_count": null,
      "outputs": [
        {
          "output_type": "error",
          "ename": "NameError",
          "evalue": "ignored",
          "traceback": [
            "\u001b[0;31m---------------------------------------------------------------------------\u001b[0m",
            "\u001b[0;31mNameError\u001b[0m                                 Traceback (most recent call last)",
            "\u001b[0;32m<ipython-input-34-ca1fa68e8845>\u001b[0m in \u001b[0;36m<module>\u001b[0;34m()\u001b[0m\n\u001b[1;32m      1\u001b[0m \u001b[0;31m# Example 3 - breaking (to illustrate when it breaks)\u001b[0m\u001b[0;34m\u001b[0m\u001b[0;34m\u001b[0m\u001b[0;34m\u001b[0m\u001b[0m\n\u001b[0;32m----> 2\u001b[0;31m \u001b[0marr5\u001b[0m \u001b[0;34m=\u001b[0m \u001b[0;34m[\u001b[0m\u001b[0;36m12\u001b[0m\u001b[0;34m,\u001b[0m \u001b[0;36m15\u001b[0m\u001b[0;34m,\u001b[0m \u001b[0;36m18\u001b[0m\u001b[0;34m,\u001b[0m \u001b[0mnan\u001b[0m\u001b[0;34m,\u001b[0m \u001b[0;36m21\u001b[0m\u001b[0;34m,\u001b[0m \u001b[0;36m17\u001b[0m\u001b[0;34m]\u001b[0m\u001b[0;34m\u001b[0m\u001b[0;34m\u001b[0m\u001b[0m\n\u001b[0m\u001b[1;32m      3\u001b[0m \u001b[0;34m\u001b[0m\u001b[0m\n\u001b[1;32m      4\u001b[0m \u001b[0mnp\u001b[0m\u001b[0;34m.\u001b[0m\u001b[0mnanmean\u001b[0m\u001b[0;34m(\u001b[0m\u001b[0marr5\u001b[0m\u001b[0;34m)\u001b[0m\u001b[0;34m\u001b[0m\u001b[0;34m\u001b[0m\u001b[0m\n",
            "\u001b[0;31mNameError\u001b[0m: name 'nan' is not defined"
          ]
        }
      ]
    },
    {
      "cell_type": "markdown",
      "metadata": {
        "id": "hWwvefUI0axG"
      },
      "source": [
        "Here, the ***nan*** value is treated as a *variable*. The function only ignores the nan values if it's in the form of ***`np.nan`***, otherwise it throws an error. It can be solved by"
      ]
    },
    {
      "cell_type": "code",
      "metadata": {
        "colab": {
          "base_uri": "https://localhost:8080/"
        },
        "id": "xXcFAyueQ5_T",
        "outputId": "f1b280c3-b57f-4ec6-82c8-bcf82e12dde8"
      },
      "source": [
        "arr5 = [12, 15, 18, np.nan, 21, 17]\n",
        "\n",
        "np.nanmean(arr5)"
      ],
      "execution_count": null,
      "outputs": [
        {
          "output_type": "execute_result",
          "data": {
            "text/plain": [
              "16.6"
            ]
          },
          "metadata": {
            "tags": []
          },
          "execution_count": 69
        }
      ]
    },
    {
      "cell_type": "code",
      "metadata": {
        "id": "4SkwfemJ0axH",
        "colab": {
          "base_uri": "https://localhost:8080/",
          "height": 86
        },
        "outputId": "641b633d-2203-4a3d-e9ee-e43f797f8af4"
      },
      "source": [
        "jovian.commit()"
      ],
      "execution_count": null,
      "outputs": [
        {
          "output_type": "stream",
          "text": [
            "[jovian] Detected Colab notebook...\u001b[0m\n",
            "[jovian] Uploading colab notebook to Jovian...\u001b[0m\n",
            "Committed successfully! https://jovian.ai/madhanmanoj1999/numpy-array-operations\n"
          ],
          "name": "stdout"
        },
        {
          "output_type": "execute_result",
          "data": {
            "application/vnd.google.colaboratory.intrinsic+json": {
              "type": "string"
            },
            "text/plain": [
              "'https://jovian.ai/madhanmanoj1999/numpy-array-operations'"
            ]
          },
          "metadata": {
            "tags": []
          },
          "execution_count": 36
        }
      ]
    },
    {
      "cell_type": "markdown",
      "metadata": {
        "id": "UTriifhr0axH"
      },
      "source": [
        "## **3. np.extract**\n",
        "\n",
        "The numpy.extract() function returns **elements** of input_array if they satisfy some **specified condition**."
      ]
    },
    {
      "cell_type": "code",
      "metadata": {
        "id": "hoqcEVoM0axH",
        "colab": {
          "base_uri": "https://localhost:8080/"
        },
        "outputId": "1db6b8e3-54fa-457b-8447-6a3100dc8b57"
      },
      "source": [
        "# Example 1 - working\n",
        "arr6 = np.array(range(100,200,3))\n",
        "\n",
        "np.extract((arr6%5)>3,arr6)"
      ],
      "execution_count": null,
      "outputs": [
        {
          "output_type": "execute_result",
          "data": {
            "text/plain": [
              "array([109, 124, 139, 154, 169, 184, 199])"
            ]
          },
          "metadata": {
            "tags": []
          },
          "execution_count": 40
        }
      ]
    },
    {
      "cell_type": "markdown",
      "metadata": {
        "id": "tOBRXBh30axI"
      },
      "source": [
        "Here, it returns the array elements which satisfy the condition. "
      ]
    },
    {
      "cell_type": "code",
      "metadata": {
        "id": "iHaeTkXt0axI",
        "colab": {
          "base_uri": "https://localhost:8080/"
        },
        "outputId": "bf7da06a-ac59-4f3b-c102-d32cc02ccc26"
      },
      "source": [
        "# Example 2 - working\n",
        "sales = np.random.randint(1000,10000,size=110)\n",
        "\n",
        "np.extract(sales>8000, sales)"
      ],
      "execution_count": null,
      "outputs": [
        {
          "output_type": "execute_result",
          "data": {
            "text/plain": [
              "array([8374, 9369, 9722, 8744, 9205, 8046, 9953, 9602, 8359, 9194, 8292,\n",
              "       8675, 9685, 9797, 9137, 8212, 8763, 9079, 9954, 8453, 9001, 9306,\n",
              "       9315, 9633, 8292, 8120, 9962, 8379, 8025, 9295])"
            ]
          },
          "metadata": {
            "tags": []
          },
          "execution_count": 48
        }
      ]
    },
    {
      "cell_type": "markdown",
      "metadata": {
        "id": "2hhk-yDx0axI"
      },
      "source": [
        "Here, it returns only the sales which are greater than 8000."
      ]
    },
    {
      "cell_type": "code",
      "metadata": {
        "id": "1fvEIpjU0axI",
        "colab": {
          "base_uri": "https://localhost:8080/",
          "height": 197
        },
        "outputId": "38edd5f5-54ad-4530-e2c8-641b9913e848"
      },
      "source": [
        "# Example 3 - breaking (to illustrate when it breaks)\n",
        "arr7 = [2, 7, 9, 17]\n",
        "\n",
        "np.extract(arr7 >10, arr7)"
      ],
      "execution_count": null,
      "outputs": [
        {
          "output_type": "error",
          "ename": "TypeError",
          "evalue": "ignored",
          "traceback": [
            "\u001b[0;31m---------------------------------------------------------------------------\u001b[0m",
            "\u001b[0;31mTypeError\u001b[0m                                 Traceback (most recent call last)",
            "\u001b[0;32m<ipython-input-72-acb39095ed66>\u001b[0m in \u001b[0;36m<module>\u001b[0;34m()\u001b[0m\n\u001b[1;32m      2\u001b[0m \u001b[0marr7\u001b[0m \u001b[0;34m=\u001b[0m \u001b[0;34m[\u001b[0m\u001b[0;36m2\u001b[0m\u001b[0;34m,\u001b[0m \u001b[0;36m7\u001b[0m\u001b[0;34m,\u001b[0m \u001b[0;36m9\u001b[0m\u001b[0;34m,\u001b[0m \u001b[0;36m17\u001b[0m\u001b[0;34m]\u001b[0m\u001b[0;34m\u001b[0m\u001b[0;34m\u001b[0m\u001b[0m\n\u001b[1;32m      3\u001b[0m \u001b[0;34m\u001b[0m\u001b[0m\n\u001b[0;32m----> 4\u001b[0;31m \u001b[0mnp\u001b[0m\u001b[0;34m.\u001b[0m\u001b[0mextract\u001b[0m\u001b[0;34m(\u001b[0m\u001b[0marr7\u001b[0m \u001b[0;34m>\u001b[0m\u001b[0;36m10\u001b[0m\u001b[0;34m,\u001b[0m \u001b[0marr7\u001b[0m\u001b[0;34m)\u001b[0m\u001b[0;34m\u001b[0m\u001b[0;34m\u001b[0m\u001b[0m\n\u001b[0m",
            "\u001b[0;31mTypeError\u001b[0m: '>' not supported between instances of 'list' and 'int'"
          ]
        }
      ]
    },
    {
      "cell_type": "markdown",
      "metadata": {
        "id": "lmEO1uOR0axJ"
      },
      "source": [
        "This function **does not accept** the **list** as an argument like the previous functions. It accepts only the array. That's why it's showing the error. It can be treated as"
      ]
    },
    {
      "cell_type": "code",
      "metadata": {
        "colab": {
          "base_uri": "https://localhost:8080/"
        },
        "id": "zwlTdvSTZa9g",
        "outputId": "70df119b-6d9f-4058-aa0f-fc2ef185babc"
      },
      "source": [
        "arr7 = np.array([2, 7, 9, 17])\n",
        "\n",
        "np.extract(arr7 >10, arr7)"
      ],
      "execution_count": null,
      "outputs": [
        {
          "output_type": "execute_result",
          "data": {
            "text/plain": [
              "array([17])"
            ]
          },
          "metadata": {
            "tags": []
          },
          "execution_count": 73
        }
      ]
    },
    {
      "cell_type": "code",
      "metadata": {
        "id": "Cb0XQ4ii0axJ",
        "colab": {
          "base_uri": "https://localhost:8080/",
          "height": 86
        },
        "outputId": "41515b60-8b76-4e01-9f4c-11f5114a9a06"
      },
      "source": [
        "jovian.commit()"
      ],
      "execution_count": null,
      "outputs": [
        {
          "output_type": "stream",
          "text": [
            "[jovian] Detected Colab notebook...\u001b[0m\n",
            "[jovian] Uploading colab notebook to Jovian...\u001b[0m\n",
            "Committed successfully! https://jovian.ai/madhanmanoj1999/numpy-array-operations\n"
          ],
          "name": "stdout"
        },
        {
          "output_type": "execute_result",
          "data": {
            "application/vnd.google.colaboratory.intrinsic+json": {
              "type": "string"
            },
            "text/plain": [
              "'https://jovian.ai/madhanmanoj1999/numpy-array-operations'"
            ]
          },
          "metadata": {
            "tags": []
          },
          "execution_count": 74
        }
      ]
    },
    {
      "cell_type": "markdown",
      "metadata": {
        "id": "--LJQ3Yg0axJ"
      },
      "source": [
        "## **4. np.trim_zeros**\n",
        "\n",
        "numpy.trim_zeros function is used to trim the ***leading and/or trailing zeros*** from a 1-D array."
      ]
    },
    {
      "cell_type": "code",
      "metadata": {
        "id": "3zuDNnTO0axK",
        "colab": {
          "base_uri": "https://localhost:8080/"
        },
        "outputId": "34ff070c-4770-4d87-c68b-73831f7c2d77"
      },
      "source": [
        "# Example 1 - working\n",
        "arr8 = np.array([0, 0, 0, 0, 1, 5, 7, 0, 6, 2, 9, 0, 10, 0, 0])\n",
        "\n",
        "np.trim_zeros(arr8)"
      ],
      "execution_count": null,
      "outputs": [
        {
          "output_type": "execute_result",
          "data": {
            "text/plain": [
              "array([ 1,  5,  7,  0,  6,  2,  9,  0, 10])"
            ]
          },
          "metadata": {
            "tags": []
          },
          "execution_count": 75
        }
      ]
    },
    {
      "cell_type": "markdown",
      "metadata": {
        "id": "RZTPU_hJ0axK"
      },
      "source": [
        "The function removes the leading and trailing zeros in the array."
      ]
    },
    {
      "cell_type": "code",
      "metadata": {
        "id": "d6O2sDni0axK",
        "colab": {
          "base_uri": "https://localhost:8080/"
        },
        "outputId": "07fd2d1f-ea2a-469c-b8ea-e2b99fdf5246"
      },
      "source": [
        "# Example 2 - working\n",
        "\n",
        "np.trim_zeros(arr8, trim =\"f\")"
      ],
      "execution_count": null,
      "outputs": [
        {
          "output_type": "execute_result",
          "data": {
            "text/plain": [
              "array([ 1,  5,  7,  0,  6,  2,  9,  0, 10,  0,  0])"
            ]
          },
          "metadata": {
            "tags": []
          },
          "execution_count": 87
        }
      ]
    },
    {
      "cell_type": "markdown",
      "metadata": {
        "id": "euf1cvw80axL"
      },
      "source": [
        "Here, the function removes only the leading zeros. It's because of the argument that we gave ***trim='f'*** which means remove zeros only in the **front**."
      ]
    },
    {
      "cell_type": "code",
      "metadata": {
        "id": "qb5sHULX0axL",
        "colab": {
          "base_uri": "https://localhost:8080/",
          "height": 350
        },
        "outputId": "f2bfd857-f561-47d4-f5f3-77567094f9c1"
      },
      "source": [
        "# Example 3 - breaking (to illustrate when it breaks)\n",
        "arr9 = np.array([[0,0,0,2,3,5],\n",
        "                 [7,8,9,0,0,0]])\n",
        "\n",
        "np.trim_zeros(arr9,trim=\"b\")"
      ],
      "execution_count": null,
      "outputs": [
        {
          "output_type": "error",
          "ename": "ValueError",
          "evalue": "ignored",
          "traceback": [
            "\u001b[0;31m---------------------------------------------------------------------------\u001b[0m",
            "\u001b[0;31mValueError\u001b[0m                                Traceback (most recent call last)",
            "\u001b[0;32m<ipython-input-88-c61f51b44eaf>\u001b[0m in \u001b[0;36m<module>\u001b[0;34m()\u001b[0m\n\u001b[1;32m      3\u001b[0m                  [7,8,9,0,0,0]])\n\u001b[1;32m      4\u001b[0m \u001b[0;34m\u001b[0m\u001b[0m\n\u001b[0;32m----> 5\u001b[0;31m \u001b[0mnp\u001b[0m\u001b[0;34m.\u001b[0m\u001b[0mtrim_zeros\u001b[0m\u001b[0;34m(\u001b[0m\u001b[0marr9\u001b[0m\u001b[0;34m,\u001b[0m\u001b[0mtrim\u001b[0m\u001b[0;34m=\u001b[0m\u001b[0;34m\"b\"\u001b[0m\u001b[0;34m)\u001b[0m\u001b[0;34m\u001b[0m\u001b[0;34m\u001b[0m\u001b[0m\n\u001b[0m",
            "\u001b[0;32m<__array_function__ internals>\u001b[0m in \u001b[0;36mtrim_zeros\u001b[0;34m(*args, **kwargs)\u001b[0m\n",
            "\u001b[0;32m/usr/local/lib/python3.7/dist-packages/numpy/lib/function_base.py\u001b[0m in \u001b[0;36mtrim_zeros\u001b[0;34m(filt, trim)\u001b[0m\n\u001b[1;32m   1632\u001b[0m     \u001b[0;32mif\u001b[0m \u001b[0;34m'B'\u001b[0m \u001b[0;32min\u001b[0m \u001b[0mtrim\u001b[0m\u001b[0;34m:\u001b[0m\u001b[0;34m\u001b[0m\u001b[0;34m\u001b[0m\u001b[0m\n\u001b[1;32m   1633\u001b[0m         \u001b[0;32mfor\u001b[0m \u001b[0mi\u001b[0m \u001b[0;32min\u001b[0m \u001b[0mfilt\u001b[0m\u001b[0;34m[\u001b[0m\u001b[0;34m:\u001b[0m\u001b[0;34m:\u001b[0m\u001b[0;34m-\u001b[0m\u001b[0;36m1\u001b[0m\u001b[0;34m]\u001b[0m\u001b[0;34m:\u001b[0m\u001b[0;34m\u001b[0m\u001b[0;34m\u001b[0m\u001b[0m\n\u001b[0;32m-> 1634\u001b[0;31m             \u001b[0;32mif\u001b[0m \u001b[0mi\u001b[0m \u001b[0;34m!=\u001b[0m \u001b[0;36m0.\u001b[0m\u001b[0;34m:\u001b[0m\u001b[0;34m\u001b[0m\u001b[0;34m\u001b[0m\u001b[0m\n\u001b[0m\u001b[1;32m   1635\u001b[0m                 \u001b[0;32mbreak\u001b[0m\u001b[0;34m\u001b[0m\u001b[0;34m\u001b[0m\u001b[0m\n\u001b[1;32m   1636\u001b[0m             \u001b[0;32melse\u001b[0m\u001b[0;34m:\u001b[0m\u001b[0;34m\u001b[0m\u001b[0;34m\u001b[0m\u001b[0m\n",
            "\u001b[0;31mValueError\u001b[0m: The truth value of an array with more than one element is ambiguous. Use a.any() or a.all()"
          ]
        }
      ]
    },
    {
      "cell_type": "markdown",
      "metadata": {
        "id": "PxHy-gA20axM"
      },
      "source": [
        "Here, we passed a 2D array to the function. That's why the error occured. The function only accepts 1D array or a sequence. Thus, it can be solved by"
      ]
    },
    {
      "cell_type": "code",
      "metadata": {
        "colab": {
          "base_uri": "https://localhost:8080/"
        },
        "id": "OmtyOlBKs6Y9",
        "outputId": "2c920db6-9db6-4d9e-ee11-739e90de18af"
      },
      "source": [
        "arr9 = arr9.reshape(12)\n",
        "\n",
        "np.trim_zeros(arr9,trim=\"b\")"
      ],
      "execution_count": null,
      "outputs": [
        {
          "output_type": "execute_result",
          "data": {
            "text/plain": [
              "array([0, 0, 0, 2, 3, 5, 7, 8, 9])"
            ]
          },
          "metadata": {
            "tags": []
          },
          "execution_count": 92
        }
      ]
    },
    {
      "cell_type": "code",
      "metadata": {
        "id": "u5G5wnIy0axN",
        "colab": {
          "base_uri": "https://localhost:8080/",
          "height": 86
        },
        "outputId": "10d1897e-30ca-4c54-e0ac-1ae18fe92c7e"
      },
      "source": [
        "jovian.commit()"
      ],
      "execution_count": null,
      "outputs": [
        {
          "output_type": "stream",
          "text": [
            "[jovian] Detected Colab notebook...\u001b[0m\n",
            "[jovian] Uploading colab notebook to Jovian...\u001b[0m\n",
            "Committed successfully! https://jovian.ai/madhanmanoj1999/numpy-array-operations\n"
          ],
          "name": "stdout"
        },
        {
          "output_type": "execute_result",
          "data": {
            "application/vnd.google.colaboratory.intrinsic+json": {
              "type": "string"
            },
            "text/plain": [
              "'https://jovian.ai/madhanmanoj1999/numpy-array-operations'"
            ]
          },
          "metadata": {
            "tags": []
          },
          "execution_count": 93
        }
      ]
    },
    {
      "cell_type": "markdown",
      "metadata": {
        "id": "FngDyP5Q0axN"
      },
      "source": [
        "## **5. np.unique**\n",
        "\n",
        "This function returns the ***unique*** values in a sorted manner from an array."
      ]
    },
    {
      "cell_type": "code",
      "metadata": {
        "id": "VWThYGFn0axO",
        "colab": {
          "base_uri": "https://localhost:8080/"
        },
        "outputId": "e87d2bc8-2275-4f4b-de84-a15972439446"
      },
      "source": [
        "# Example 1 - working\n",
        "arr11 = np.array([1, 2, 8, 2, 4, 3, 6, 4])\n",
        "\n",
        "np.unique(arr11)"
      ],
      "execution_count": null,
      "outputs": [
        {
          "output_type": "execute_result",
          "data": {
            "text/plain": [
              "array([1, 2, 3, 4, 6, 8])"
            ]
          },
          "metadata": {
            "tags": []
          },
          "execution_count": 112
        }
      ]
    },
    {
      "cell_type": "code",
      "metadata": {
        "id": "cyeuoC6C0axO",
        "colab": {
          "base_uri": "https://localhost:8080/"
        },
        "outputId": "d265f92c-9bb6-4e9c-a262-bbe4fce9727d"
      },
      "source": [
        "# Example 2 - working\n",
        "arr12 = np.array([[\"d\",\"e\",\"e\"],\n",
        "                  [\"a\",\"b\",\"a\"]])\n",
        "\n",
        "np.unique(arr12)"
      ],
      "execution_count": null,
      "outputs": [
        {
          "output_type": "execute_result",
          "data": {
            "text/plain": [
              "array(['a', 'b', 'd', 'e'], dtype='<U1')"
            ]
          },
          "metadata": {
            "tags": []
          },
          "execution_count": 98
        }
      ]
    },
    {
      "cell_type": "markdown",
      "metadata": {
        "id": "K6cW_UHz0axP"
      },
      "source": [
        "The function also works with String arrays."
      ]
    },
    {
      "cell_type": "code",
      "metadata": {
        "id": "28ii2gLZ0axP",
        "colab": {
          "base_uri": "https://localhost:8080/",
          "height": 374
        },
        "outputId": "f8725ab3-c015-4269-d5a0-78543e3e411e"
      },
      "source": [
        "# Example 3 - breaking (to illustrate when it breaks)\n",
        "arr11 = np.append(arr11,None)\n",
        "\n",
        "np.unique(arr11)"
      ],
      "execution_count": null,
      "outputs": [
        {
          "output_type": "error",
          "ename": "TypeError",
          "evalue": "ignored",
          "traceback": [
            "\u001b[0;31m---------------------------------------------------------------------------\u001b[0m",
            "\u001b[0;31mTypeError\u001b[0m                                 Traceback (most recent call last)",
            "\u001b[0;32m<ipython-input-113-23bb9c313279>\u001b[0m in \u001b[0;36m<module>\u001b[0;34m()\u001b[0m\n\u001b[1;32m      2\u001b[0m \u001b[0marr11\u001b[0m \u001b[0;34m=\u001b[0m \u001b[0mnp\u001b[0m\u001b[0;34m.\u001b[0m\u001b[0mappend\u001b[0m\u001b[0;34m(\u001b[0m\u001b[0marr11\u001b[0m\u001b[0;34m,\u001b[0m\u001b[0;32mNone\u001b[0m\u001b[0;34m)\u001b[0m\u001b[0;34m\u001b[0m\u001b[0;34m\u001b[0m\u001b[0m\n\u001b[1;32m      3\u001b[0m \u001b[0;34m\u001b[0m\u001b[0m\n\u001b[0;32m----> 4\u001b[0;31m \u001b[0mnp\u001b[0m\u001b[0;34m.\u001b[0m\u001b[0munique\u001b[0m\u001b[0;34m(\u001b[0m\u001b[0marr11\u001b[0m\u001b[0;34m)\u001b[0m\u001b[0;34m\u001b[0m\u001b[0;34m\u001b[0m\u001b[0m\n\u001b[0m",
            "\u001b[0;32m<__array_function__ internals>\u001b[0m in \u001b[0;36munique\u001b[0;34m(*args, **kwargs)\u001b[0m\n",
            "\u001b[0;32m/usr/local/lib/python3.7/dist-packages/numpy/lib/arraysetops.py\u001b[0m in \u001b[0;36munique\u001b[0;34m(ar, return_index, return_inverse, return_counts, axis)\u001b[0m\n\u001b[1;32m    259\u001b[0m     \u001b[0mar\u001b[0m \u001b[0;34m=\u001b[0m \u001b[0mnp\u001b[0m\u001b[0;34m.\u001b[0m\u001b[0masanyarray\u001b[0m\u001b[0;34m(\u001b[0m\u001b[0mar\u001b[0m\u001b[0;34m)\u001b[0m\u001b[0;34m\u001b[0m\u001b[0;34m\u001b[0m\u001b[0m\n\u001b[1;32m    260\u001b[0m     \u001b[0;32mif\u001b[0m \u001b[0maxis\u001b[0m \u001b[0;32mis\u001b[0m \u001b[0;32mNone\u001b[0m\u001b[0;34m:\u001b[0m\u001b[0;34m\u001b[0m\u001b[0;34m\u001b[0m\u001b[0m\n\u001b[0;32m--> 261\u001b[0;31m         \u001b[0mret\u001b[0m \u001b[0;34m=\u001b[0m \u001b[0m_unique1d\u001b[0m\u001b[0;34m(\u001b[0m\u001b[0mar\u001b[0m\u001b[0;34m,\u001b[0m \u001b[0mreturn_index\u001b[0m\u001b[0;34m,\u001b[0m \u001b[0mreturn_inverse\u001b[0m\u001b[0;34m,\u001b[0m \u001b[0mreturn_counts\u001b[0m\u001b[0;34m)\u001b[0m\u001b[0;34m\u001b[0m\u001b[0;34m\u001b[0m\u001b[0m\n\u001b[0m\u001b[1;32m    262\u001b[0m         \u001b[0;32mreturn\u001b[0m \u001b[0m_unpack_tuple\u001b[0m\u001b[0;34m(\u001b[0m\u001b[0mret\u001b[0m\u001b[0;34m)\u001b[0m\u001b[0;34m\u001b[0m\u001b[0;34m\u001b[0m\u001b[0m\n\u001b[1;32m    263\u001b[0m \u001b[0;34m\u001b[0m\u001b[0m\n",
            "\u001b[0;32m/usr/local/lib/python3.7/dist-packages/numpy/lib/arraysetops.py\u001b[0m in \u001b[0;36m_unique1d\u001b[0;34m(ar, return_index, return_inverse, return_counts)\u001b[0m\n\u001b[1;32m    320\u001b[0m         \u001b[0maux\u001b[0m \u001b[0;34m=\u001b[0m \u001b[0mar\u001b[0m\u001b[0;34m[\u001b[0m\u001b[0mperm\u001b[0m\u001b[0;34m]\u001b[0m\u001b[0;34m\u001b[0m\u001b[0;34m\u001b[0m\u001b[0m\n\u001b[1;32m    321\u001b[0m     \u001b[0;32melse\u001b[0m\u001b[0;34m:\u001b[0m\u001b[0;34m\u001b[0m\u001b[0;34m\u001b[0m\u001b[0m\n\u001b[0;32m--> 322\u001b[0;31m         \u001b[0mar\u001b[0m\u001b[0;34m.\u001b[0m\u001b[0msort\u001b[0m\u001b[0;34m(\u001b[0m\u001b[0;34m)\u001b[0m\u001b[0;34m\u001b[0m\u001b[0;34m\u001b[0m\u001b[0m\n\u001b[0m\u001b[1;32m    323\u001b[0m         \u001b[0maux\u001b[0m \u001b[0;34m=\u001b[0m \u001b[0mar\u001b[0m\u001b[0;34m\u001b[0m\u001b[0;34m\u001b[0m\u001b[0m\n\u001b[1;32m    324\u001b[0m     \u001b[0mmask\u001b[0m \u001b[0;34m=\u001b[0m \u001b[0mnp\u001b[0m\u001b[0;34m.\u001b[0m\u001b[0mempty\u001b[0m\u001b[0;34m(\u001b[0m\u001b[0maux\u001b[0m\u001b[0;34m.\u001b[0m\u001b[0mshape\u001b[0m\u001b[0;34m,\u001b[0m \u001b[0mdtype\u001b[0m\u001b[0;34m=\u001b[0m\u001b[0mnp\u001b[0m\u001b[0;34m.\u001b[0m\u001b[0mbool_\u001b[0m\u001b[0;34m)\u001b[0m\u001b[0;34m\u001b[0m\u001b[0;34m\u001b[0m\u001b[0m\n",
            "\u001b[0;31mTypeError\u001b[0m: '<' not supported between instances of 'NoneType' and 'int'"
          ]
        }
      ]
    },
    {
      "cell_type": "markdown",
      "metadata": {
        "id": "YdTCR1CB0axP"
      },
      "source": [
        "Here, the error occurs because our array contains a None value. The unique function does not accept the None Value although it's a datatype in Python. It can be treated as"
      ]
    },
    {
      "cell_type": "code",
      "metadata": {
        "colab": {
          "base_uri": "https://localhost:8080/"
        },
        "id": "zjMAqvtDxo9B",
        "outputId": "d05774ad-1186-411f-d565-bd7682f6a2b5"
      },
      "source": [
        "arr11 = arr11[arr11 != None]\n",
        "\n",
        "np.unique(arr11)"
      ],
      "execution_count": null,
      "outputs": [
        {
          "output_type": "execute_result",
          "data": {
            "text/plain": [
              "array([1, 2, 3, 4, 6, 8], dtype=object)"
            ]
          },
          "metadata": {
            "tags": []
          },
          "execution_count": 115
        }
      ]
    },
    {
      "cell_type": "code",
      "metadata": {
        "id": "-qIB2z2R0axP",
        "colab": {
          "base_uri": "https://localhost:8080/",
          "height": 86
        },
        "outputId": "c2ef0583-c8f7-4cdd-9bb0-6f73db6731bb"
      },
      "source": [
        "jovian.commit()"
      ],
      "execution_count": null,
      "outputs": [
        {
          "output_type": "stream",
          "text": [
            "[jovian] Detected Colab notebook...\u001b[0m\n",
            "[jovian] Uploading colab notebook to Jovian...\u001b[0m\n",
            "Committed successfully! https://jovian.ai/madhanmanoj1999/numpy-array-operations\n"
          ],
          "name": "stdout"
        },
        {
          "output_type": "execute_result",
          "data": {
            "application/vnd.google.colaboratory.intrinsic+json": {
              "type": "string"
            },
            "text/plain": [
              "'https://jovian.ai/madhanmanoj1999/numpy-array-operations'"
            ]
          },
          "metadata": {
            "tags": []
          },
          "execution_count": 116
        }
      ]
    },
    {
      "cell_type": "markdown",
      "metadata": {
        "id": "XJYRokab0axS"
      },
      "source": [
        "## **Conclusion**\n",
        "\n",
        "These are the 5 Simple Yet Interesting Numpy functions.\n",
        "Thanks for Reading! :)"
      ]
    },
    {
      "cell_type": "markdown",
      "metadata": {
        "id": "Gz5VkOf10axS"
      },
      "source": [
        "## Reference Links\n",
        "Provide links to your references and other interesting articles about Numpy arrays:\n",
        "* Numpy official tutorial : https://numpy.org/doc/stable/user/quickstart.html\n",
        "* ..."
      ]
    },
    {
      "cell_type": "code",
      "metadata": {
        "id": "IRoC1onr0axT",
        "colab": {
          "base_uri": "https://localhost:8080/",
          "height": 86
        },
        "outputId": "a3e692d6-073b-4499-edf0-d524145db4b3"
      },
      "source": [
        "jovian.commit()"
      ],
      "execution_count": null,
      "outputs": [
        {
          "output_type": "stream",
          "text": [
            "[jovian] Detected Colab notebook...\u001b[0m\n",
            "[jovian] Uploading colab notebook to Jovian...\u001b[0m\n",
            "Committed successfully! https://jovian.ai/madhanmanoj1999/numpy-array-operations\n"
          ],
          "name": "stdout"
        },
        {
          "output_type": "execute_result",
          "data": {
            "application/vnd.google.colaboratory.intrinsic+json": {
              "type": "string"
            },
            "text/plain": [
              "'https://jovian.ai/madhanmanoj1999/numpy-array-operations'"
            ]
          },
          "metadata": {
            "tags": []
          },
          "execution_count": 118
        }
      ]
    }
  ]
}